{
 "cells": [
  {
   "cell_type": "code",
   "execution_count": 12,
   "id": "db3d0c01",
   "metadata": {},
   "outputs": [
    {
     "name": "stdout",
     "output_type": "stream",
     "text": [
      "the quick brown fox jump over a lazi dog\n"
     ]
    }
   ],
   "source": [
    "import nltk\n",
    "from nltk.stem import PorterStemmer\n",
    "stemmer = PorterStemmer()\n",
    "#Pangram ex\n",
    "example = \"The quick brown fox jumps over a lazy dog\"\n",
    "example = [stemmer.stem(token) for token in example.split(\" \")]\n",
    "print(\" \".join(example))\n"
   ]
  },
  {
   "cell_type": "code",
   "execution_count": 20,
   "id": "aba487c7",
   "metadata": {},
   "outputs": [
    {
     "name": "stdout",
     "output_type": "stream",
     "text": [
      "﻿hope and dream were dash that day. it should have been expected, but it still came as a shock. the warn sign had been ignor in favor of the possibility, howev remote, that it could actual happen. that possibl had grown from hope to an undeni belief it must be destiny. that wa until it wasn't and the hope and dream came crash down.\n"
     ]
    }
   ],
   "source": [
    "stemmer = PorterStemmer()\n",
    "myfile = open(\"file2.txt\")\n",
    "eg = myfile.read()\n",
    "eg = [stemmer.stem(token) for token in eg.split(\" \")]\n",
    "print(\" \".join(eg))"
   ]
  },
  {
   "cell_type": "code",
   "execution_count": null,
   "id": "325b6b11",
   "metadata": {},
   "outputs": [],
   "source": []
  }
 ],
 "metadata": {
  "kernelspec": {
   "display_name": "Python 3 (ipykernel)",
   "language": "python",
   "name": "python3"
  },
  "language_info": {
   "codemirror_mode": {
    "name": "ipython",
    "version": 3
   },
   "file_extension": ".py",
   "mimetype": "text/x-python",
   "name": "python",
   "nbconvert_exporter": "python",
   "pygments_lexer": "ipython3",
   "version": "3.9.12"
  }
 },
 "nbformat": 4,
 "nbformat_minor": 5
}

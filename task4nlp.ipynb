{
 "cells": [
  {
   "cell_type": "code",
   "execution_count": 1,
   "id": "aec83bd6",
   "metadata": {},
   "outputs": [],
   "source": [
    "import nltk"
   ]
  },
  {
   "cell_type": "code",
   "execution_count": 2,
   "id": "eb1c4951",
   "metadata": {},
   "outputs": [],
   "source": [
    "text1 = 'When Barack Obama was elected president in 2008, he became the first African American to hold the office. The framers of the Constitution always hoped that our leadership would not be limited to Americans of wealth or family connections. Subject to the prejudices of their time—many of them owned slaves—most would not have foreseen an African American president.'"
   ]
  },
  {
   "cell_type": "code",
   "execution_count": 4,
   "id": "5a65c66a",
   "metadata": {},
   "outputs": [],
   "source": [
    "fd = nltk.FreqDist(text1.split())"
   ]
  },
  {
   "cell_type": "code",
   "execution_count": 5,
   "id": "cac3897e",
   "metadata": {},
   "outputs": [
    {
     "data": {
      "text/plain": [
       "FreqDist({'the': 4, 'of': 4, 'to': 3, 'African': 2, 'American': 2, 'would': 2, 'not': 2, 'When': 1, 'Barack': 1, 'Obama': 1, ...})"
      ]
     },
     "execution_count": 5,
     "metadata": {},
     "output_type": "execute_result"
    }
   ],
   "source": [
    "fd"
   ]
  },
  {
   "cell_type": "code",
   "execution_count": 6,
   "id": "1af91704",
   "metadata": {},
   "outputs": [],
   "source": [
    "from nltk.probability import ConditionalFreqDist"
   ]
  },
  {
   "cell_type": "code",
   "execution_count": 7,
   "id": "6506f99f",
   "metadata": {},
   "outputs": [],
   "source": [
    "con= ConditionalFreqDist((len(word),word) for word in text1.split())"
   ]
  },
  {
   "cell_type": "code",
   "execution_count": 8,
   "id": "b8e6ec97",
   "metadata": {},
   "outputs": [
    {
     "data": {
      "text/plain": [
       "FreqDist({'of': 4, 'to': 3, 'in': 1, 'he': 1, 'be': 1, 'or': 1, 'an': 1})"
      ]
     },
     "execution_count": 8,
     "metadata": {},
     "output_type": "execute_result"
    }
   ],
   "source": [
    "con[2]"
   ]
  },
  {
   "cell_type": "code",
   "execution_count": null,
   "id": "04aeaafa",
   "metadata": {},
   "outputs": [],
   "source": []
  }
 ],
 "metadata": {
  "kernelspec": {
   "display_name": "Python 3 (ipykernel)",
   "language": "python",
   "name": "python3"
  },
  "language_info": {
   "codemirror_mode": {
    "name": "ipython",
    "version": 3
   },
   "file_extension": ".py",
   "mimetype": "text/x-python",
   "name": "python",
   "nbconvert_exporter": "python",
   "pygments_lexer": "ipython3",
   "version": "3.9.12"
  }
 },
 "nbformat": 4,
 "nbformat_minor": 5
}
